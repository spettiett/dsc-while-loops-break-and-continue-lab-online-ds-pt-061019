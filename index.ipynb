{
 "cells": [
  {
   "cell_type": "markdown",
   "metadata": {},
   "source": [
    "# While Loops, Break and Continue - Lab"
   ]
  },
  {
   "cell_type": "markdown",
   "metadata": {},
   "source": [
    "## Introduction\n",
    "In this lab, we will practice using `while` loops, and `break` and `continue` statements in our code. We will use our control flow statements to iterate through collections and filter out or selectively operate on each element. We'll use `while` loops to perform operations until a given condition is no longer true."
   ]
  },
  {
   "cell_type": "markdown",
   "metadata": {},
   "source": [
    "## Objectives\n",
    "You will be able to:\n",
    "* Use a break and continue statements inside a loop\n",
    "* Understand, explain and use while loops"
   ]
  },
  {
   "cell_type": "markdown",
   "metadata": {},
   "source": [
    "## Instructions\n",
    "\n",
    "### While Loops\n",
    "Use while loops to perform the below operations and get the expected return values"
   ]
  },
  {
   "cell_type": "code",
   "execution_count": 1,
   "metadata": {},
   "outputs": [
    {
     "name": "stdout",
     "output_type": "stream",
     "text": [
      "Another slice eaten!\n",
      "Now eaten 1 slices!\n",
      "Another slice eaten!\n",
      "Now eaten 2 slices!\n",
      "Another slice eaten!\n",
      "Now eaten 3 slices!\n",
      "Another slice eaten!\n",
      "Now eaten 4 slices!\n",
      "Another slice eaten!\n",
      "Now eaten 5 slices!\n",
      "Another slice eaten!\n",
      "Now eaten 6 slices!\n"
     ]
    }
   ],
   "source": [
    "slices_of_pie = 6\n",
    "slices_eaten = 0\n",
    "# use a while loop to eat each slice of pie\n",
    "# add each slice to the slices_eaten variable\n",
    "for slice in range(slices_of_pie):\n",
    "    print('Another slice eaten!')\n",
    "    slices_eaten += 1\n",
    "    print('Now eaten {} slices!'.format(slices_eaten))\n",
    "    "
   ]
  },
  {
   "cell_type": "code",
   "execution_count": 33,
   "metadata": {},
   "outputs": [
    {
     "name": "stdout",
     "output_type": "stream",
     "text": [
      "Another slice eaten!\n",
      "Now eaten 1 slices!\n",
      "Another slice eaten!\n",
      "Now eaten 2 slices!\n",
      "Another slice eaten!\n",
      "Now eaten 3 slices!\n",
      "Another slice eaten!\n",
      "Now eaten 4 slices!\n",
      "Another slice eaten!\n",
      "Now eaten 5 slices!\n",
      "Another slice eaten!\n",
      "Now eaten 6 slices!\n"
     ]
    }
   ],
   "source": [
    "# use a while loop to eat each slice of pie\n",
    "\n",
    "slices_of_pie = 6\n",
    "slices_eaten = 0\n",
    "# use a while loop to eat each slice of pie\n",
    "# add each slice to the slices_eaten variable\n",
    "while slices_of_pie !=0:\n",
    "    print('Another slice eaten!')\n",
    "    slices_eaten += 1\n",
    "    slices_of_pie -= 1\n",
    "    print('Now eaten {} slices!'.format(slices_eaten))"
   ]
  },
  {
   "cell_type": "code",
   "execution_count": 32,
   "metadata": {},
   "outputs": [
    {
     "name": "stdout",
     "output_type": "stream",
     "text": [
      "Cooking Pancakes for Breakfast - Start Time: 1468\n",
      "Start Pancake # 0\n",
      "Finished Cooking: 1399\n",
      "Start Pancake # 1\n",
      "Finished Cooking: 1330\n",
      "Start Pancake # 2\n",
      "Finished Cooking: 1261\n",
      "Start Pancake # 3\n",
      "Finished Cooking: 1192\n",
      "Start Pancake # 4\n",
      "Finished Cooking: 1123\n",
      "Cooking Pancakes for Breakfast - End Time: 1123\n"
     ]
    }
   ],
   "source": [
    "time_for_breakfast = 1468 # in seconds \n",
    "number_of_cooked_pancakes = 0\n",
    "time_for_each_pancake = 0\n",
    "# use a while loop to make yourself 5 pancakes for breakfast\n",
    "# each pancake takes 27 seconds to cook on each side\n",
    "# it takes an average of 5 seconds to flip a pancake, add or remove a pancake from the pan.\n",
    "# you must decrease the time_for_breakfast each time you \n",
    "# add a pancake to the skillet (frying pan) or flip a pancake (i.e. 2 times per pancake)\n",
    "# there is only room for one pancake at a time\n",
    "\n",
    "print(f\"Cooking Pancakes for Breakfast - Start Time: {time_for_breakfast}\")\n",
    "while number_of_cooked_pancakes < 5:\n",
    "    print(f\"Start Pancake # {number_of_cooked_pancakes}\")\n",
    "    time_for_each_pancake = sum([5,27,5,27,5])\n",
    "    time_for_breakfast = time_for_breakfast - time_for_each_pancake\n",
    "    print(f\"Finished Cooking: {time_for_breakfast}\")\n",
    "    number_of_cooked_pancakes += 1\n",
    "print(f\"Cooking Pancakes for Breakfast - End Time: {time_for_breakfast}\")"
   ]
  },
  {
   "cell_type": "markdown",
   "metadata": {},
   "source": [
    "## For Loops"
   ]
  },
  {
   "cell_type": "markdown",
   "metadata": {},
   "source": [
    "> **Hint:** You may find the [remove method](https://www.programiz.com/python-programming/methods/list/remove) to be useful for the next problem"
   ]
  },
  {
   "cell_type": "code",
   "execution_count": 43,
   "metadata": {},
   "outputs": [
    {
     "name": "stdout",
     "output_type": "stream",
     "text": [
      "fed_patrons: [0, 2, 4, 6, 8, 10, 12, 14, 16, 18, 20, 22, 24, 26, 28]\n",
      "line_of_hungry_patrons: [1, 3, 5, 7, 9, 11, 13, 15, 17, 19, 21, 23, 25, 27, 29]\n"
     ]
    }
   ],
   "source": [
    "line_of_hungry_patrons = list(range(0,30))\n",
    "fed_patrons = []\n",
    "# use a \"For\" loop to feed the hungry patrons who have an even number\n",
    "# add the patrons with an even number to the fed_patrons list\n",
    "# then remove the even numbered patrons from the line_of_hungry_patrons\n",
    "# each list should contain 15 elements\n",
    "\n",
    "for patron in line_of_hungry_patrons:\n",
    "    if patron % 2 == 0:  # Even Number\n",
    "        fed_patrons.append(patron)\n",
    "        line_of_hungry_patrons.remove(patron)\n",
    "print(f\"fed_patrons: {fed_patrons}\")\n",
    "print(f\"line_of_hungry_patrons: {line_of_hungry_patrons}\")"
   ]
  },
  {
   "cell_type": "markdown",
   "metadata": {},
   "source": [
    "### `break` And `continue` Statements"
   ]
  },
  {
   "cell_type": "markdown",
   "metadata": {},
   "source": [
    "We have a list of person objects with all kinds of attributes. We'll use loops to find a person that meets a certain requirement that we are looking for or create new lists with a certain subset of elements. Write for loops with conditional statements in conjunction with `break` and `continue` to get the desired output."
   ]
  },
  {
   "cell_type": "code",
   "execution_count": 44,
   "metadata": {},
   "outputs": [],
   "source": [
    "people = [\n",
    "    {'name': \"Daniel\", 'age': 29, 'job': \"Engineer\", 'pet': \"Cat\", 'pet_name': \"Gato\"}, \n",
    "    {'name': \"Katie\", 'age': 30, 'job': \"Teacher\", 'pet': \"Dog\", 'pet_name': \"Frank\"},\n",
    "    {'name': \"Owen\", 'age': 26, 'job': \"Sales person\", 'pet': \"Cat\", 'pet_name': \"Cosmo\"},\n",
    "    {'name': \"Josh\", 'age': 22, 'job': \"Student\", 'pet': \"Cat\", 'pet_name': \"Chat\"},\n",
    "    {'name': \"Estelle\", 'age': 35, 'job': \"French Diplomat\", 'pet': \"Dog\", 'pet_name': \"Gabby\"},\n",
    "    {'name': \"Gustav\", 'age': 24, 'job': \"Brewer\", 'pet': \"Dog\", 'pet_name': \"Helen\"}\n",
    "]"
   ]
  },
  {
   "cell_type": "code",
   "execution_count": 62,
   "metadata": {},
   "outputs": [
    {
     "name": "stdout",
     "output_type": "stream",
     "text": [
      " FOR --Iteration: 1\n",
      " FOR --Iteration: 2\n",
      " \tIF --Iteration: 2\n",
      " Iteration: 2, Found dog for Katie.\n"
     ]
    }
   ],
   "source": [
    "# use the for loop below to find the *first* person in the list of people that has a dog as their pet\n",
    "# the iteration count shouldn't exceed 2 iterations\n",
    "first_dog_person = None\n",
    "iteration_count = 0\n",
    "for person in people: \n",
    "    iteration_count += 1\n",
    "    print(f\" FOR --Iteration: {iteration_count}\")\n",
    "    if person[\"pet\"] == \"Dog\":\n",
    "        print(f\" \\tIF --Iteration: {iteration_count}\")\n",
    "        print(f\" Iteration: {iteration_count}, Found dog for {person['name']}.\")\n",
    "        break\n",
    "        "
   ]
  },
  {
   "cell_type": "code",
   "execution_count": 83,
   "metadata": {},
   "outputs": [
    {
     "data": {
      "text/plain": [
       "[{'name': 'Owen',\n",
       "  'age': 26,\n",
       "  'job': 'Sales person',\n",
       "  'pet': 'Cat',\n",
       "  'pet_name': 'Cosmo'},\n",
       " {'name': 'Josh',\n",
       "  'age': 22,\n",
       "  'job': 'Student',\n",
       "  'pet': 'Cat',\n",
       "  'pet_name': 'Chat'}]"
      ]
     },
     "execution_count": 83,
     "metadata": {},
     "output_type": "execute_result"
    }
   ],
   "source": [
    "# use a for loop to create a list of the cat owners who are under the age of 28\n",
    "cat_owners = []\n",
    "# for loop goes here\n",
    "for person in people:\n",
    "    if person[\"pet\"] == \"Cat\" and person[\"age\"] < 28:\n",
    "        cat_owners.append(person)\n",
    "cat_owners\n",
    "        "
   ]
  },
  {
   "cell_type": "code",
   "execution_count": 88,
   "metadata": {},
   "outputs": [
    {
     "name": "stdout",
     "output_type": "stream",
     "text": [
      "Age: 30, Name: Katie\n"
     ]
    }
   ],
   "source": [
    "# use a for loop to find the first person who is above 29 years old in our list of people\n",
    "# remember to use a break and or continue statement\n",
    "thirty_something_yr_old = None\n",
    "# for loop goes here\n",
    "for person in people:\n",
    "    if person[\"age\"] > 29:\n",
    "        print(f\"Age: {person['age']}, Name: {person['name']}\")\n",
    "        break\n",
    "    "
   ]
  },
  {
   "cell_type": "code",
   "execution_count": 92,
   "metadata": {},
   "outputs": [
    {
     "name": "stdout",
     "output_type": "stream",
     "text": [
      "Dog Owner List: ['Katie', 'Estelle', 'Gustav']\n",
      "Dog Name  List: ['Frank', 'Gabby', 'Helen']\n"
     ]
    }
   ],
   "source": [
    "# use a for loop to create a list of person names and another list of pet names for all dog owners\n",
    "dog_owner_names = []\n",
    "dog_names = []\n",
    "# for loop goes here\n",
    "for person in people:\n",
    "    if person[\"pet\"] == \"Dog\":\n",
    "        dog_owner_names.append(person[\"name\"])\n",
    "        dog_names.append(person[\"pet_name\"])\n",
    "print(f\"Dog Owner List: {dog_owner_names}\")\n",
    "print(f\"Dog Name  List: {dog_names}\")"
   ]
  },
  {
   "cell_type": "code",
   "execution_count": 103,
   "metadata": {},
   "outputs": [
    {
     "name": "stdout",
     "output_type": "stream",
     "text": [
      "1, 11\n",
      "2, 24\n",
      "3, 39\n",
      "4, 56\n",
      "5, 75\n",
      "6, 96\n",
      "7, 119\n",
      "8, 144\n",
      "9, 171\n",
      "10, 200\n",
      "11, 231\n",
      "12, 264\n",
      "13, 299\n",
      "14, 336\n",
      "15, 375\n",
      "16, 416\n",
      "17, 459\n",
      "18, 504\n",
      "19, 551\n",
      "20, 600\n",
      "21, 651\n",
      "22, 704\n",
      "23, 759\n",
      "24, 816\n",
      "25, 875\n",
      "26, 936\n",
      "27, 999\n",
      "28, 1064\n",
      "29, 1131\n",
      "30, 1200\n",
      "31, 1271\n",
      "32, 1344\n",
      "33, 1419\n",
      "34, 1496\n",
      "35, 1575\n"
     ]
    }
   ],
   "source": [
    "# use a for loop to create a list of odd numbers from the list of numbers from 0 to 100\n",
    "# each time there is an odd number, add 10 to it and append it to the list_of_odd_numbers_plus_ten\n",
    "# stop adding numbers to the list when there are 35 numbers\n",
    "# use break and continue statements in your code\n",
    "list_of_numbers = list(range(0,100))\n",
    "list_of_odd_numbers_plus_ten = []\n",
    "counter = 0\n",
    "for number in list_of_numbers:\n",
    "    if number % 2 !=0 and counter < 35:    # ODD Number\n",
    "        list_of_odd_numbers_plus_ten.append(number+10)\n",
    "        counter += 1\n",
    "        print(f\"{counter}, {sum(list_of_odd_numbers_plus_ten)}\")"
   ]
  },
  {
   "cell_type": "markdown",
   "metadata": {},
   "source": [
    "## Summary"
   ]
  },
  {
   "cell_type": "markdown",
   "metadata": {},
   "source": [
    "In this lab, we practiced using while loops, which continue executing their block of code until the given condition is no longer truthy. This is useful for instances where we do not have a collection or do not need a collection to solve our problem, especially when we would only like to stop the process according to a certain condition. We then practiced using control flow statements, `break` and `continue`, to selectively operate on elements, append them to new lists, or assign them to new variables."
   ]
  }
 ],
 "metadata": {
  "kernelspec": {
   "display_name": "Python 3",
   "language": "python",
   "name": "python3"
  },
  "language_info": {
   "codemirror_mode": {
    "name": "ipython",
    "version": 3
   },
   "file_extension": ".py",
   "mimetype": "text/x-python",
   "name": "python",
   "nbconvert_exporter": "python",
   "pygments_lexer": "ipython3",
   "version": "3.6.6"
  }
 },
 "nbformat": 4,
 "nbformat_minor": 2
}
